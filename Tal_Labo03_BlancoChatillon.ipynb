{
 "cells": [
  {
   "cell_type": "code",
   "execution_count": 2,
   "metadata": {},
   "outputs": [],
   "source": [
    "import nltk\n",
    "import os, codecs \n",
    "import csv\n",
    "from nltk.grammar import DependencyGrammar\n",
    "from nltk.parse import (DependencyGraph, ProjectiveDependencyParser, NonprojectiveDependencyParser)"
   ]
  },
  {
   "cell_type": "code",
   "execution_count": 5,
   "metadata": {},
   "outputs": [
    {
     "name": "stdout",
     "output_type": "stream",
     "text": [
      "(Aviator, PROPN), punct, (,, PUNCT)\n",
      "(Aviator, PROPN), appos, (film, NOUN)\n",
      "(film, NOUN), det, (un, DET)\n",
      "(film, NOUN), nmod, (vie, NOUN)\n",
      "(vie, NOUN), case, (sur, ADP)\n",
      "(vie, NOUN), det, (la, DET)\n",
      "(vie, NOUN), nmod, (Hughes, PROPN)\n",
      "(Hughes, PROPN), case, (de, ADP)\n",
      "(Aviator, PROPN), punct, (., PUNCT)\n"
     ]
    }
   ],
   "source": [
    "test_ud = 'fr-ud-test.conllu3'\n",
    "dev_ud = 'fr-ud-dev.conllu3'\n",
    "train_ud = 'fr-ud-train.conllu3'\n",
    "\n",
    "fd = codecs.open(dev_ud, 'r', 'utf8')\n",
    "col_dev = fd.read()\n",
    "fd.close\n",
    "\n",
    "raw_dev = col_dev.split('\\n\\n')\n",
    "dgs = []\n",
    "for raw in raw_dev :\n",
    "    raw_clean = raw.replace(\" \", \"\").replace(\"root\", \"ROOT\")\n",
    "    dgs.append(DependencyGraph(raw_clean))\n",
    "\n",
    "for head, rel, dep in dgs[0].triples():\n",
    "    print('({h[0]}, {h[1]}), {r}, ({d[0]}, {d[1]})'.format(h=head, r=rel, d=dep))"
   ]
  }
 ],
 "metadata": {
  "kernelspec": {
   "display_name": "Python 3",
   "language": "python",
   "name": "python3"
  },
  "language_info": {
   "codemirror_mode": {
    "name": "ipython",
    "version": 3
   },
   "file_extension": ".py",
   "mimetype": "text/x-python",
   "name": "python",
   "nbconvert_exporter": "python",
   "pygments_lexer": "ipython3",
   "version": "3.7.1"
  }
 },
 "nbformat": 4,
 "nbformat_minor": 2
}
