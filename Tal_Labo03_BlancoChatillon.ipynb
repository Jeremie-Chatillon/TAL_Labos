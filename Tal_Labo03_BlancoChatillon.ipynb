{
 "cells": [
  {
   "cell_type": "code",
   "execution_count": 1,
   "metadata": {},
   "outputs": [],
   "source": [
    "import nltk\n",
    "import os, codecs \n",
    "import csv\n",
    "from nltk.grammar import DependencyGrammar\n",
    "from nltk.parse import (DependencyGraph, ProjectiveDependencyParser, NonprojectiveDependencyParser)"
   ]
  },
  {
   "cell_type": "code",
   "execution_count": 8,
   "metadata": {},
   "outputs": [
    {
     "data": {
      "text/plain": [
       "[((('agit', 'VERB'), ('Il', 'PRON')), 8),\n",
       " ((('agit', 'VERB'), ('il', 'PRON')), 8),\n",
       " ((('a', 'VERB'), ('il', 'PRON')), 7),\n",
       " ((('trouve', 'VERB'), ('on', 'PRON')), 6),\n",
       " ((('fait', 'VERB'), ('qui', 'PRON')), 6),\n",
       " ((('peut', 'VERB'), ('Il', 'PRON')), 5),\n",
       " ((('retrouve', 'VERB'), ('On', 'PRON')), 4),\n",
       " ((('faut', 'VERB'), ('il', 'PRON')), 4),\n",
       " ((('endémique', 'ADJ'), ('espèce', 'NOUN')), 4),\n",
       " ((('existe', 'VERB'), ('il', 'PRON')), 4)]"
      ]
     },
     "execution_count": 8,
     "metadata": {},
     "output_type": "execute_result"
    }
   ],
   "source": [
    "test_ud = 'fr-ud-test.conllu3'\n",
    "dev_ud = 'fr-ud-dev.conllu3'\n",
    "train_ud = 'fr-ud-train.conllu3'\n",
    "\n",
    "fd = codecs.open(dev_ud, 'r', 'utf8')\n",
    "col_dev = fd.read()\n",
    "fd.close\n",
    "\n",
    "raw_dev = col_dev.split('\\n\\n')\n",
    "dgs = []\n",
    "for raw in raw_dev :\n",
    "    raw_clean = raw.replace(\" \", \"\").replace(\"root\", \"ROOT\")\n",
    "    dgs.append(DependencyGraph(raw_clean))\n",
    "\n",
    "\n",
    "triplets = []\n",
    "for i in range(len(dgs) - 1): # le dernier est vide et créait des problème\n",
    "        for head, rel, dep in dgs[i].triples():\n",
    "            if rel == 'nsubj':\n",
    "                #print('({h[0]}, {h[1]}), {r}, ({d[0]}, {d[1]})'.format(h=head, r=rel, d=dep))\n",
    "                triplets.append((head, dep))\n",
    "\n",
    "freq = nltk.FreqDist(triplets)\n",
    "freq.most_common(10)"
   ]
  },
  {
   "cell_type": "code",
   "execution_count": null,
   "metadata": {},
   "outputs": [],
   "source": []
  }
 ],
 "metadata": {
  "kernelspec": {
   "display_name": "Python 3",
   "language": "python",
   "name": "python3"
  },
  "language_info": {
   "codemirror_mode": {
    "name": "ipython",
    "version": 3
   },
   "file_extension": ".py",
   "mimetype": "text/x-python",
   "name": "python",
   "nbconvert_exporter": "python",
   "pygments_lexer": "ipython3",
   "version": "3.7.1"
  }
 },
 "nbformat": 4,
 "nbformat_minor": 2
}
